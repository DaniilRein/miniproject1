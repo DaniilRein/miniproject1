{
 "cells": [
  {
   "cell_type": "markdown",
   "metadata": {},
   "source": [
    "### First question ###"
   ]
  },
  {
   "cell_type": "markdown",
   "metadata": {},
   "source": [
    "The hierarchy I planned:\n",
    "\n",
    "General Neuron\n",
    "    firing_rate\n",
    "    Activate\n",
    "\n",
    "    Sensory Neuron\n",
    "        Photoreceptor\n",
    "            receptor_type\n",
    "        Mechanoreceptor\n",
    "            \n",
    "\n",
    "    Motor Neuron\n",
    "        target_muscle\n",
    "        Control Muscle\n",
    "\n",
    "        Alpha Motor Neuron\n",
    "            target_muscle\n",
    "            Skeletal Muscle Control\n",
    "            Response Specific to Skeletal Muscle\n",
    "\n",
    "        Gamma Motor Neuron\n",
    "            target_muscle\n",
    "            Muscle Spindle Control\n",
    "            Unique Control Mechanism\n"
   ]
  },
  {
   "cell_type": "code",
   "execution_count": null,
   "metadata": {},
   "outputs": [
    {
     "name": "stdout",
     "output_type": "stream",
     "text": [
      "Class hierarchy saved to class_hierarchy.png\n"
     ]
    }
   ],
   "source": [
    "# from graphviz import Digraph\n",
    "# Found a library that can plots the hierarchy automatically.  \n",
    "# Providing the .png that was generated.\n",
    "\n",
    "class Neuron():\n",
    "    def __init__(self, firing_range) -> None:\n",
    "        self.firing_range = None   \n",
    "    def activate(self):\n",
    "        return None\n",
    "  \n",
    "\n",
    "\n",
    "class Sensory(Neuron):\n",
    "    def __init__(self, firing_range, receptor_type) -> None:\n",
    "        super().__init__(firing_range)\n",
    "        self.receptor_type = receptor_type\n",
    "    def sense_stimulus(self):\n",
    "        return None\n",
    "    \n",
    "class Photoreceptor(Sensory):\n",
    "    def __init__(self, firing_range, receptor_type, light_detection) -> None:\n",
    "        super().__init__(firing_range, receptor_type)\n",
    "        self.light_detection = light_detection\n",
    "    def unique_response_to_light(self):\n",
    "        return None\n",
    "    \n",
    "class Mechanoreceptor(Sensory):\n",
    "    def __init__(self, firing_range, receptor_type, pressure_detection) -> None:\n",
    "        super().__init__(firing_range, receptor_type)\n",
    "        self.pressure_detection = pressure_detection\n",
    "    def unique_response_to_pressure(self):\n",
    "        return None\n",
    "\n",
    "\n",
    "##### Finish ^ first #####\n",
    "\n",
    "class Motor(Neuron):\n",
    "    def __init__(self) -> None:\n",
    "        super().__init__()\n",
    "\n",
    "class Alpha_Motor(Motor):\n",
    "    def __init__(self) -> None:\n",
    "        super().__init__()\n",
    "\n",
    "class Beta_Motor(Motor):\n",
    "    def __init__(self) -> None:\n",
    "        super().__init__()\n",
    "\n",
    "classes = [Neuron, Sensory, Photoreceptor, Mechanoreceptor, Motor, Alpha_Motor, Beta_Motor]\n",
    "for cls in classes:\n",
    "    dot.node(cls.__name__)  # Add class nodes\n",
    "    for base in cls.__bases__:\n",
    "        if base.__name__ != \"object\":  # Skip the base 'object' class\n",
    "            dot.edge(base.__name__, cls.__name__)  # Add edges for inheritance\n",
    "\n",
    "# dot = Digraph(comment=\"OOP Hierarchy\")\n",
    "# dot.attr(rankdir=\"TB\") # Plots Top to Bottom hierarchy arrows.\n",
    "# dot.render(\"class_hierarchy\", format=\"png\", cleanup=True) # Render the graph\n",
    "# print(\"Class hierarchy saved to class_hierarchy.png\")"
   ]
  },
  {
   "cell_type": "markdown",
   "metadata": {},
   "source": [
    "### Second question ###"
   ]
  },
  {
   "cell_type": "markdown",
   "metadata": {},
   "source": [
    "### Q1 ###\n"
   ]
  },
  {
   "cell_type": "markdown",
   "metadata": {},
   "source": [
    "Plan:\n"
   ]
  },
  {
   "cell_type": "code",
   "execution_count": null,
   "metadata": {},
   "outputs": [],
   "source": [
    "import numpy as np\n",
    "\n",
    "# Need to -m \"Every commit!\""
   ]
  },
  {
   "cell_type": "markdown",
   "metadata": {},
   "source": [
    "### Q2 ###"
   ]
  },
  {
   "cell_type": "code",
   "execution_count": null,
   "metadata": {},
   "outputs": [],
   "source": [
    "import pandas\n",
    "import matplotlib.pyplot as plt\n",
    "import csv\n",
    "\n",
    "data = 'laptop_price - dataset.csv'\n"
   ]
  },
  {
   "cell_type": "markdown",
   "metadata": {},
   "source": [
    "### Bonus question ###"
   ]
  },
  {
   "cell_type": "code",
   "execution_count": null,
   "metadata": {},
   "outputs": [],
   "source": []
  }
 ],
 "metadata": {
  "kernelspec": {
   "display_name": "Python 3",
   "language": "python",
   "name": "python3"
  },
  "language_info": {
   "codemirror_mode": {
    "name": "ipython",
    "version": 3
   },
   "file_extension": ".py",
   "mimetype": "text/x-python",
   "name": "python",
   "nbconvert_exporter": "python",
   "pygments_lexer": "ipython3",
   "version": "3.13.0"
  }
 },
 "nbformat": 4,
 "nbformat_minor": 2
}
