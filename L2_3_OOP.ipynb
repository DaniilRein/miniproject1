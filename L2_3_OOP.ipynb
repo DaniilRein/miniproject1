{
 "cells": [
  {
   "cell_type": "markdown",
   "metadata": {
    "id": "ZtjGKMBE5HqM"
   },
   "source": [
    "### OO in Python"
   ]
  },
  {
   "cell_type": "markdown",
   "metadata": {
    "id": "eu36-MH25HqW"
   },
   "source": [
    "In Python, **everything is an object**, including primitive data types like integers and strings"
   ]
  },
  {
   "cell_type": "code",
   "execution_count": null,
   "metadata": {
    "id": "WiqnV_zc5HqX"
   },
   "outputs": [],
   "source": [
    "num = 5"
   ]
  },
  {
   "cell_type": "markdown",
   "metadata": {
    "id": "3J0op3zq5HqX"
   },
   "source": [
    "When You Write num = 5:\n",
    "Python checks if the integer 5 already exists in memory. If not, it creates a new int object to represent the number 5.\n",
    "\n",
    "The variable num is then assigned a **reference** to the int object. This means that num now points to the memory location where the int object representing 5 is stored.\n"
   ]
  },
  {
   "cell_type": "code",
   "execution_count": null,
   "metadata": {
    "colab": {
     "base_uri": "https://localhost:8080/"
    },
    "id": "RRNd397a5HqY",
    "outputId": "73f25e45-7c85-410e-b0c9-75a9d96a1fa1"
   },
   "outputs": [
    {
     "name": "stdout",
     "output_type": "stream",
     "text": [
      "<class 'int'>\n",
      "134103423549808\n"
     ]
    }
   ],
   "source": [
    "print(type(num))\n",
    "print(id(num))"
   ]
  },
  {
   "cell_type": "markdown",
   "metadata": {
    "id": "ckG-ihdF5HqY"
   },
   "source": [
    "Same goes for all types, for example string. you can than use object methods like upper for string (or bit_length for int)"
   ]
  },
  {
   "cell_type": "code",
   "execution_count": null,
   "metadata": {
    "colab": {
     "base_uri": "https://localhost:8080/"
    },
    "id": "6h6yFe7g5HqY",
    "outputId": "feaa11d8-d1a9-47ad-c4a0-3ebe8a54bf56"
   },
   "outputs": [
    {
     "name": "stdout",
     "output_type": "stream",
     "text": [
      "<class 'str'>\n",
      "134103006887280\n"
     ]
    }
   ],
   "source": [
    "text = \"Hello, World!\"\n",
    "print(type(text))\n",
    "print(id(text))"
   ]
  },
  {
   "cell_type": "markdown",
   "metadata": {
    "id": "KmuyjDfB5HqZ"
   },
   "source": [
    "**1. Data types have built-in methods, which make it easier to manipulate data without the need to write functions.**"
   ]
  },
  {
   "cell_type": "code",
   "execution_count": null,
   "metadata": {
    "id": "cVWwvmzG5HqZ"
   },
   "outputs": [],
   "source": [
    "print(text.upper())  # upper is a method of the str object\n",
    "print(text.replace('ll','l')) # same for replace"
   ]
  },
  {
   "cell_type": "markdown",
   "metadata": {
    "id": "EKHqB9Cx5HqZ"
   },
   "source": [
    "**2. Same method can be used for different types**"
   ]
  },
  {
   "cell_type": "code",
   "execution_count": null,
   "metadata": {
    "colab": {
     "base_uri": "https://localhost:8080/"
    },
    "id": "P5YoxvuV5HqZ",
    "outputId": "fb843e5b-9cd5-4215-fac1-1ea9f96eaf08"
   },
   "outputs": [
    {
     "name": "stdout",
     "output_type": "stream",
     "text": [
      "3\n",
      "3\n"
     ]
    }
   ],
   "source": [
    "l = [1,2,3]\n",
    "s = '123'\n",
    "print(len(l))\n",
    "print(len(s))\n",
    "#instead of len_str() and len_lst() in FP"
   ]
  },
  {
   "cell_type": "markdown",
   "metadata": {
    "id": "4M5IQAu45Wdi"
   },
   "source": [
    "##### How is it done?"
   ]
  },
  {
   "cell_type": "markdown",
   "metadata": {
    "id": "WRLQfzNM5ajb"
   },
   "source": [
    "Because all types inherit from object, they share some common functionality, for example:\n",
    "\n",
    "- All objects have a unique identifier (accessible with the id() function).\n",
    "- All objects have a type (accessible with the type() function).\n",
    "- All objects can be represented as strings with str() or repr().\n",
    "- All objects support == and != comparisons"
   ]
  },
  {
   "cell_type": "code",
   "execution_count": null,
   "metadata": {
    "colab": {
     "base_uri": "https://localhost:8080/"
    },
    "id": "j0VXv9NN5aje",
    "outputId": "6e713030-e5a5-408a-8bb2-4fb537b35467"
   },
   "outputs": [
    {
     "name": "stdout",
     "output_type": "stream",
     "text": [
      "3\n"
     ]
    }
   ],
   "source": [
    "print(s.__len__())"
   ]
  },
  {
   "cell_type": "code",
   "execution_count": null,
   "metadata": {
    "colab": {
     "base_uri": "https://localhost:8080/"
    },
    "id": "OwaPQK6Z5ajf",
    "outputId": "fd44f483-09b6-439e-91bb-7864056bfdc0"
   },
   "outputs": [
    {
     "name": "stdout",
     "output_type": "stream",
     "text": [
      "5\n",
      "[1, 2, 3]\n"
     ]
    }
   ],
   "source": [
    "n = 5\n",
    "print(n.__repr__())\n",
    "l = [1,2,3]\n",
    "print(l.__repr__())"
   ]
  },
  {
   "cell_type": "markdown",
   "metadata": {
    "id": "8I9vIrJS5Hqa"
   },
   "source": [
    "**3. Dynamic typing:**"
   ]
  },
  {
   "cell_type": "code",
   "execution_count": null,
   "metadata": {
    "colab": {
     "base_uri": "https://localhost:8080/"
    },
    "id": "rVmynLKT5Hqa",
    "outputId": "a561fb71-ef20-4ec5-c20e-b9137084ce0d"
   },
   "outputs": [
    {
     "name": "stdout",
     "output_type": "stream",
     "text": [
      "134103423549744\n",
      "134102989524336\n",
      "134103006934016\n"
     ]
    }
   ],
   "source": [
    "x = 3\n",
    "print(id(x))\n",
    "x='Python rules!'\n",
    "print(id(x))\n",
    "x=[1,2,3,4]\n",
    "print(id(x))"
   ]
  },
  {
   "cell_type": "markdown",
   "metadata": {
    "id": "wOh1vs24K36K"
   },
   "source": [
    "### OOP: Class definition"
   ]
  },
  {
   "cell_type": "markdown",
   "metadata": {
    "id": "jJPDIUQ-Lix-"
   },
   "source": [
    "***Classes*** are the building blocks of object-oriented programming. They contain both data and functionality"
   ]
  },
  {
   "cell_type": "markdown",
   "metadata": {
    "id": "2N5XM0lFL5ui"
   },
   "source": [
    "<h3> 1. Creating a class\n",
    "\n",
    "To define a class in Python, you can use the **class** keyword, followed by the class name and a colon. Inside the class, an __init__ **method** has to be defined with def. This is the initializer that you can later use to instantiate objects.  __init__ must always be present! It takes one argument: self, which refers to the object itself."
   ]
  },
  {
   "cell_type": "markdown",
   "metadata": {
    "id": "VOfTPWCbbPkP"
   },
   "source": [
    "<h4> ! Creating a new class creates a new type of object"
   ]
  },
  {
   "cell_type": "markdown",
   "metadata": {
    "id": "P4Rfc7NAbQ-R"
   },
   "source": [
    "Class Definition Syntax:\n",
    "\n",
    "class ClassName:\n",
    "    <statement-1>\n",
    "    .\n",
    "    .\n",
    "    .\n",
    "    <statement-N>"
   ]
  },
  {
   "cell_type": "markdown",
   "metadata": {
    "id": "Iypj-k5t8t6o"
   },
   "source": [
    "#### Class with no constructor"
   ]
  },
  {
   "cell_type": "code",
   "execution_count": null,
   "metadata": {
    "id": "x-R4hT_W8ou9"
   },
   "outputs": [],
   "source": [
    "class Dog:\n",
    "    pass\n"
   ]
  },
  {
   "cell_type": "markdown",
   "metadata": {
    "id": "cPgT7m_mu1AU"
   },
   "source": [
    "#### class with constractor"
   ]
  },
  {
   "cell_type": "markdown",
   "metadata": {
    "id": "TFYjcZcecQyr"
   },
   "source": [
    "Many classes like to create objects with instances customized to a specific initial state. Therefore a class may define a special method named __init__(), like this:"
   ]
  },
  {
   "cell_type": "code",
   "execution_count": null,
   "metadata": {
    "id": "y7TAckw9MEFj"
   },
   "outputs": [],
   "source": [
    "class Dog:\n",
    "  def __init__(self):\n",
    "      pass"
   ]
  },
  {
   "cell_type": "markdown",
   "metadata": {
    "id": "W_OvbNRmQtUy"
   },
   "source": [
    "'__init__(self)' is a **constructor** = a special method that is automatically invoked when a new object (or instance) of a class is created. Its primary purpose is to initialize the newly created object by setting up its initial state, typically by assigning values to its instance variables (attributes) and performing any setup required when the object is first instantiated."
   ]
  },
  {
   "cell_type": "markdown",
   "metadata": {
    "id": "kjtdEHgstAM4"
   },
   "source": [
    "<h3> **self**\n",
    "\n",
    "The 'self' keyword represents the specific **instance** of class. It allows you to access variables, attributes, and methods.\n",
    "self = a reference to the current instance of the class\n",
    "\n",
    "When you create an instance of a class and call a method on that instance, Python automatically passes the instance as the first argument to the method\n",
    "\n",
    "without self there would be no way for instance methods to differentiate between different instances\n",
    "\n",
    "'self' is a convention, it's not a reserved keyword. You could technically name it something else (highly confusing, not encouraged)"
   ]
  },
  {
   "cell_type": "code",
   "execution_count": null,
   "metadata": {
    "id": "zTB0Flrd5sDr"
   },
   "outputs": [],
   "source": [
    "class Dog:\n",
    "  def __init__(moshe):\n",
    "      pass"
   ]
  },
  {
   "cell_type": "markdown",
   "metadata": {
    "id": "YwRrBUZuMMFQ"
   },
   "source": [
    "<h3> 2. Class instantiation\n",
    "\n",
    "**To instantiate an object**, write the class name, followed by brackets."
   ]
  },
  {
   "cell_type": "code",
   "execution_count": null,
   "metadata": {
    "id": "oHFLllnUMUSs"
   },
   "outputs": [],
   "source": [
    "ozzy = Dog() # The instantiation operation creates an empty object."
   ]
  },
  {
   "cell_type": "markdown",
   "metadata": {
    "id": "ycQkYEo5SOh8"
   },
   "source": [
    "- Python creates an object of type Dog.\n",
    "- The __init__ method is called, which does nothing, as its empty\n",
    "- The object ozzy exists with no attributes, but it knows it is an instance of Dog"
   ]
  },
  {
   "cell_type": "markdown",
   "metadata": {
    "id": "dS4HfnRpcrN8"
   },
   "source": [
    "We can check that indeed ozzy is an instance of class Dog:"
   ]
  },
  {
   "cell_type": "code",
   "execution_count": null,
   "metadata": {
    "colab": {
     "base_uri": "https://localhost:8080/"
    },
    "id": "EzkuvFqA4hnO",
    "outputId": "124d1663-e62b-4cc6-d69a-4fb60197e1d4"
   },
   "outputs": [
    {
     "name": "stdout",
     "output_type": "stream",
     "text": [
      "True\n"
     ]
    }
   ],
   "source": [
    "print(isinstance(ozzy, Dog))"
   ]
  },
  {
   "cell_type": "markdown",
   "metadata": {
    "id": "qke8vWa96ncs"
   },
   "source": [
    "Whenever a class is instantiated, a call is made to the __init__\n",
    "function defined in that class\n",
    "\n",
    "the interpreter will create a new instance of type Dog,\n",
    "and then call Dog.__init__ with the newly created object as the actual\n",
    "parameter that is bound to the formal parameter self."
   ]
  },
  {
   "cell_type": "markdown",
   "metadata": {
    "id": "yDcmOWHdMe29"
   },
   "source": [
    "<h3> 3. Adding **attributes & methods** to a class:\n",
    "\n",
    "After printing ozzy, it is clear that this object is a dog. But you haven't added any attributes yet. Let's give the Dog class a name and age by rewriting it:"
   ]
  },
  {
   "cell_type": "markdown",
   "metadata": {
    "id": "QVLqxobjxbVu"
   },
   "source": [
    "**Attributes** = variables that belong to an object\n",
    "\n",
    "**Methods** = functions that belong to an object. Methods \"belong to\" the object and defines its functionality"
   ]
  },
  {
   "cell_type": "code",
   "execution_count": null,
   "metadata": {
    "id": "ItwoBScJMqK6"
   },
   "outputs": [],
   "source": [
    "class Dog:\n",
    "    def __init__(self, name, age=3):\n",
    "        self.name = name\n",
    "        self.age = age\n",
    "    def print_name(self): # note: the first parameters is always self\n",
    "      print(self.name)\n",
    "    def bark(self):\n",
    "      print('bark bark!')"
   ]
  },
  {
   "cell_type": "markdown",
   "metadata": {
    "id": "h6mQ4GVSMfCg"
   },
   "source": [
    "the constructor now takes two arguments after self: name and age. These then get assigned to self.name and self.age respectively. You can now create a new ozzy object with a name and age:"
   ]
  },
  {
   "cell_type": "markdown",
   "metadata": {
    "id": "rOdCmB4Sbwyx"
   },
   "source": [
    "Class **instantiation** with attributes"
   ]
  },
  {
   "cell_type": "code",
   "execution_count": null,
   "metadata": {
    "id": "SnuOtxg0M38o"
   },
   "outputs": [],
   "source": [
    "ozzy = Dog(\"Ozzy\", 2)"
   ]
  },
  {
   "cell_type": "markdown",
   "metadata": {
    "id": "TKUkfpSETBVV"
   },
   "source": [
    "What will happen if i do this?"
   ]
  },
  {
   "cell_type": "code",
   "execution_count": null,
   "metadata": {
    "id": "WExNghCEC5k3"
   },
   "outputs": [],
   "source": [
    "rexi = Dog('rexi')"
   ]
  },
  {
   "cell_type": "markdown",
   "metadata": {
    "id": "LwjWjjz-6hP5"
   },
   "source": [
    "'self' is passed **automatically** to instance methods when they are called"
   ]
  },
  {
   "cell_type": "code",
   "execution_count": null,
   "metadata": {
    "colab": {
     "base_uri": "https://localhost:8080/"
    },
    "id": "BbwE1zb-673_",
    "outputId": "5f373a6b-8524-4c34-b5f7-e239a4b1417f"
   },
   "outputs": [
    {
     "name": "stdout",
     "output_type": "stream",
     "text": [
      "bark bark!\n"
     ]
    }
   ],
   "source": [
    "ozzy.bark()"
   ]
  },
  {
   "cell_type": "markdown",
   "metadata": {
    "id": "gaSSKeO2JW4S"
   },
   "source": [
    "Attributes of class are **mutable** by default, and can be changed, like any other variable."
   ]
  },
  {
   "cell_type": "code",
   "execution_count": null,
   "metadata": {
    "colab": {
     "base_uri": "https://localhost:8080/"
    },
    "id": "5hHVhH0CJZkE",
    "outputId": "c830b437-0378-4551-9962-d36e705cf49b"
   },
   "outputs": [
    {
     "name": "stdout",
     "output_type": "stream",
     "text": [
      "John\n",
      "4\n"
     ]
    }
   ],
   "source": [
    "ozzy.name = \"John\"\n",
    "print(ozzy.name)\n",
    "\n",
    "ozzy.age += 1\n",
    "print(ozzy.age)"
   ]
  },
  {
   "cell_type": "markdown",
   "metadata": {
    "id": "qqYy8jZMijiU"
   },
   "source": [
    "> **Your turn:** Create a class called `Student` with 3 attributes: `name`,  `id_number` and  `grades` - an empty dictionary at the initialization, which will contain items of the form `{subject: [grade1, grade2,...]}`. Finally, create two instances of `Student`."
   ]
  },
  {
   "cell_type": "markdown",
   "metadata": {
    "id": "tNCmIkWGboJl"
   },
   "source": [
    "<h3> 4. Attribute reference (the dot notation):\n",
    "\n",
    "Attribute references in Python use the standard syntax: obj.name"
   ]
  },
  {
   "cell_type": "code",
   "execution_count": null,
   "metadata": {
    "colab": {
     "base_uri": "https://localhost:8080/"
    },
    "id": "x1T3bUiNC-xh",
    "outputId": "b800ff02-a113-42ca-81f3-dde436722e98"
   },
   "outputs": [
    {
     "name": "stdout",
     "output_type": "stream",
     "text": [
      "Ozzy\n"
     ]
    }
   ],
   "source": [
    "ozzy.print_name()"
   ]
  },
  {
   "cell_type": "code",
   "execution_count": null,
   "metadata": {
    "colab": {
     "base_uri": "https://localhost:8080/"
    },
    "id": "eREQdoJDDKYW",
    "outputId": "316be8d7-7fb6-4321-c6f4-2fe95dda7c75"
   },
   "outputs": [
    {
     "data": {
      "text/plain": [
       "8"
      ]
     },
     "execution_count": 25,
     "metadata": {},
     "output_type": "execute_result"
    }
   ],
   "source": [
    "rexi = Dog('rexi',8)\n",
    "rexi.age"
   ]
  },
  {
   "cell_type": "code",
   "execution_count": null,
   "metadata": {
    "colab": {
     "base_uri": "https://localhost:8080/"
    },
    "id": "GI9FURQMND97",
    "outputId": "0561a8e1-d48c-416d-f4da-093c0a144869"
   },
   "outputs": [
    {
     "name": "stdout",
     "output_type": "stream",
     "text": [
      "<__main__.Dog object at 0x7f8314a75060>\n"
     ]
    }
   ],
   "source": [
    "print(ozzy)"
   ]
  },
  {
   "cell_type": "code",
   "execution_count": null,
   "metadata": {
    "colab": {
     "base_uri": "https://localhost:8080/"
    },
    "id": "i7YTegcuM9Lp",
    "outputId": "8be99df9-11ae-4280-db45-2f6d9d9093af"
   },
   "outputs": [
    {
     "name": "stdout",
     "output_type": "stream",
     "text": [
      "Ozzy\n",
      "2\n"
     ]
    }
   ],
   "source": [
    "print(ozzy.name)\n",
    "\n",
    "print(ozzy.age)"
   ]
  },
  {
   "cell_type": "markdown",
   "metadata": {
    "id": "IVsY5tVEBZ60"
   },
   "source": [
    "<h3> 5. Updating the object:"
   ]
  },
  {
   "cell_type": "markdown",
   "metadata": {
    "id": "J0GPB0URBogq"
   },
   "source": [
    "Methods can update the internal data of their calling instances:"
   ]
  },
  {
   "cell_type": "code",
   "execution_count": null,
   "metadata": {
    "id": "4YnMxIABBtki"
   },
   "outputs": [],
   "source": [
    "class Dog:\n",
    "    def __init__(self, name, age):\n",
    "        self.name = name\n",
    "        self.age = age\n",
    "        self.number_of_puppies = 0\n",
    "    def print_name(self): # note: the first parameters is always self\n",
    "      print(self.name)\n",
    "    def bark(self):\n",
    "      print('bark bark!')\n",
    "    def reproduce(self):\n",
    "      self.number_of_puppies +=1"
   ]
  },
  {
   "cell_type": "code",
   "execution_count": null,
   "metadata": {
    "colab": {
     "base_uri": "https://localhost:8080/"
    },
    "id": "h8GPZlp4CiU5",
    "outputId": "3cbe2c9d-ae4e-482e-ba0b-9517e2758efd"
   },
   "outputs": [
    {
     "data": {
      "text/plain": [
       "0"
      ]
     },
     "execution_count": 27,
     "metadata": {},
     "output_type": "execute_result"
    }
   ],
   "source": [
    "ozzy = Dog(\"Ozzy\", 2)\n",
    "ozzy.number_of_puppies"
   ]
  },
  {
   "cell_type": "code",
   "execution_count": null,
   "metadata": {
    "colab": {
     "base_uri": "https://localhost:8080/"
    },
    "id": "tl69xjfiCsw5",
    "outputId": "bef21be0-daf7-46f8-86c5-cd1579c9e709"
   },
   "outputs": [
    {
     "data": {
      "text/plain": [
       "2"
      ]
     },
     "execution_count": 29,
     "metadata": {},
     "output_type": "execute_result"
    }
   ],
   "source": [
    "ozzy.reproduce()\n",
    "ozzy.number_of_puppies"
   ]
  },
  {
   "cell_type": "markdown",
   "metadata": {
    "id": "nyiDloulB5Ab"
   },
   "source": [
    "> **Your turn:** Add to the class `Student` a method called `took_test(self, subject, grade)`, which appends `grade` to the relevant value in `grades`. Add another method called `get_average_grade(self, subject)`. Do you need new attributes? which?"
   ]
  },
  {
   "cell_type": "markdown",
   "metadata": {
    "id": "YLcGd40-SXXJ"
   },
   "source": [
    "### what did we gain by defining a class?"
   ]
  },
  {
   "cell_type": "markdown",
   "metadata": {
    "id": "tU60OQJASh18"
   },
   "source": [
    "Ans: Abstraction and Encapsulation"
   ]
  },
  {
   "cell_type": "markdown",
   "metadata": {
    "id": "qRTSoBZhOAr-"
   },
   "source": [
    "### Inheritance\n",
    "\n",
    "class DerivedClassName(BaseClassName):"
   ]
  },
  {
   "cell_type": "markdown",
   "metadata": {
    "id": "wfxnc9FgFn0b"
   },
   "source": [
    "#### When to use?"
   ]
  },
  {
   "cell_type": "markdown",
   "metadata": {
    "id": "ncVtUfexFq4X"
   },
   "source": [
    "Mainly, when you have a structured hierarchy in mind, e.g.:"
   ]
  },
  {
   "cell_type": "markdown",
   "metadata": {
    "id": "3wOY7-vsFy6c"
   },
   "source": [
    "![image.png](data:image/png;base64,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)"
   ]
  },
  {
   "cell_type": "markdown",
   "metadata": {
    "id": "KkeBW9zSOTgp"
   },
   "source": [
    "One of the core concepts in object-oriented programming (OOP) languages is inheritance. It is a mechanism that allows you to create a hierarchy of classes that share a set of properties and methods by deriving a class from another class. Inheritance is the capability of one class to derive or inherit the properties from another class.\n",
    "\n",
    "Benefits of inheritance:\n",
    "- It represents real-world relationships well.\n",
    "- It provides the reusability of a code. We don’t have to write the same code again and again.\n",
    "- It allows us to add more features to a class without modifying it.\n",
    "- It is transitive in nature, which means that if class B inherits from another class A, then all the subclasses of B would automatically inherit from class A.\n",
    "\n",
    "Inheritance offers a simple, understandable model structure.\n"
   ]
  },
  {
   "cell_type": "markdown",
   "metadata": {
    "id": "Fi1fD7i8F3Ia"
   },
   "source": [
    "#### Coding Inheritance:"
   ]
  },
  {
   "cell_type": "markdown",
   "metadata": {
    "id": "P_3LGUMZiap1"
   },
   "source": [
    "<h3> in python everything is an object\n",
    "\n",
    "All classes in Python 3 inherit from the object class by default"
   ]
  },
  {
   "cell_type": "code",
   "execution_count": null,
   "metadata": {
    "colab": {
     "base_uri": "https://localhost:8080/"
    },
    "id": "G6q3JL79i5Mo",
    "outputId": "e32e7718-20c3-4fbc-e33f-830968d219e7"
   },
   "outputs": [
    {
     "name": "stdout",
     "output_type": "stream",
     "text": [
      "True\n"
     ]
    }
   ],
   "source": [
    "print(issubclass(int, object))"
   ]
  },
  {
   "cell_type": "code",
   "execution_count": null,
   "metadata": {
    "colab": {
     "base_uri": "https://localhost:8080/"
    },
    "id": "dnj2FZb6jE0g",
    "outputId": "685a9011-7686-4dca-9123-59acb9051cd5"
   },
   "outputs": [
    {
     "name": "stdout",
     "output_type": "stream",
     "text": [
      "True\n"
     ]
    }
   ],
   "source": [
    "print(issubclass(Dog, object))"
   ]
  },
  {
   "cell_type": "code",
   "execution_count": null,
   "metadata": {
    "colab": {
     "base_uri": "https://localhost:8080/"
    },
    "id": "Rfo6BhAjwjps",
    "outputId": "306242c2-a57e-42f6-92bf-fea7c23b87af"
   },
   "outputs": [
    {
     "data": {
      "text/plain": [
       "True"
      ]
     },
     "execution_count": 32,
     "metadata": {},
     "output_type": "execute_result"
    }
   ],
   "source": [
    "isinstance(ozzy, object)"
   ]
  },
  {
   "cell_type": "markdown",
   "metadata": {
    "id": "VGAm9ouf7qW1"
   },
   "source": [
    "#### How to inherit a class?"
   ]
  },
  {
   "cell_type": "code",
   "execution_count": null,
   "metadata": {
    "id": "MYqUzAiaOVdZ"
   },
   "outputs": [],
   "source": [
    "class Amstaff(Dog):\n",
    "\n",
    "  def __init__(self, name, age, id):\n",
    "    super().__init__(name, age)\n",
    "    self.id = id\n",
    "\n",
    "  def Bite(self):\n",
    "    print('Sorry..')\n"
   ]
  },
  {
   "cell_type": "markdown",
   "metadata": {
    "id": "4SgADTA9OVRn"
   },
   "source": [
    "The super() function is a built-in function that returns the objects that represent the parent class. It allows to access the parent class’s methods and attributes in the child class"
   ]
  },
  {
   "cell_type": "code",
   "execution_count": null,
   "metadata": {
    "id": "eBT0IsDrM-NJ"
   },
   "outputs": [],
   "source": [
    "rexy = Amstaff(\"Rexy\", 3, 12345678)"
   ]
  },
  {
   "cell_type": "code",
   "execution_count": null,
   "metadata": {
    "colab": {
     "base_uri": "https://localhost:8080/"
    },
    "id": "hEH6gApFNKQw",
    "outputId": "f62151c8-724f-49ac-a619-7344e00e9511"
   },
   "outputs": [
    {
     "name": "stdout",
     "output_type": "stream",
     "text": [
      "bark bark!\n"
     ]
    }
   ],
   "source": [
    "rexy.bark()"
   ]
  },
  {
   "cell_type": "code",
   "execution_count": null,
   "metadata": {
    "colab": {
     "base_uri": "https://localhost:8080/"
    },
    "id": "zdjatNaH2nD1",
    "outputId": "34357828-5282-445d-9103-a57deae6243c"
   },
   "outputs": [
    {
     "name": "stdout",
     "output_type": "stream",
     "text": [
      "True\n",
      "True\n"
     ]
    }
   ],
   "source": [
    "print(isinstance(rexy, Dog))\n",
    "print(isinstance(rexy, Amstaff))"
   ]
  },
  {
   "cell_type": "markdown",
   "metadata": {
    "id": "lToC0IdN711Q"
   },
   "source": [
    "**Override**, replace, attributes of the **superclass**:"
   ]
  },
  {
   "cell_type": "code",
   "execution_count": null,
   "metadata": {
    "id": "75nKbHhe8LyJ"
   },
   "outputs": [],
   "source": [
    "class Amstaff(Dog):\n",
    "\n",
    "  def __init__(self, name, id, age):\n",
    "    super().__init__(name, id)\n",
    "    self.age = age\n",
    "\n",
    "  def bite(self):\n",
    "    print('Sorry..')\n",
    "\n",
    "  def bark(self):\n",
    "    print(\"woof!\")"
   ]
  },
  {
   "cell_type": "code",
   "execution_count": null,
   "metadata": {
    "colab": {
     "base_uri": "https://localhost:8080/"
    },
    "id": "VoeQ3BPU8kCH",
    "outputId": "b87f53ad-a90c-4d91-dd19-4381be52c511"
   },
   "outputs": [
    {
     "name": "stdout",
     "output_type": "stream",
     "text": [
      "woof!\n"
     ]
    }
   ],
   "source": [
    "roy = Amstaff(\"Roy\",3, 1112233)\n",
    "roy.bark()"
   ]
  },
  {
   "cell_type": "code",
   "execution_count": null,
   "metadata": {
    "colab": {
     "base_uri": "https://localhost:8080/"
    },
    "id": "TF4HHwgOkge7",
    "outputId": "36e13d2c-153c-430c-c055-9519b1a40384"
   },
   "outputs": [
    {
     "name": "stdout",
     "output_type": "stream",
     "text": [
      "bark bark!\n"
     ]
    }
   ],
   "source": [
    "ozzy.bark()"
   ]
  },
  {
   "cell_type": "code",
   "execution_count": null,
   "metadata": {
    "id": "NowNyyx7j61X"
   },
   "outputs": [],
   "source": [
    "class Bolterier(Dog):\n",
    "\n",
    "  def __init__(self, name, id, age):\n",
    "    super().__init__(name, id)\n",
    "    self.age = age\n",
    "\n",
    "  def bite(self):\n",
    "    print('YAM YAM ..')\n",
    "\n",
    "  def bark(self):\n",
    "    print(\"GRRRR!\")"
   ]
  },
  {
   "cell_type": "code",
   "execution_count": null,
   "metadata": {
    "colab": {
     "base_uri": "https://localhost:8080/"
    },
    "id": "nUNfYwrckwiN",
    "outputId": "786d5cdd-42f7-4cbd-abaf-d1489e06d974"
   },
   "outputs": [
    {
     "name": "stdout",
     "output_type": "stream",
     "text": [
      "GRRRR!\n"
     ]
    }
   ],
   "source": [
    "rocky = Bolterier(\"Rocky\", 2, 5552323)\n",
    "rocky.bark()"
   ]
  },
  {
   "cell_type": "markdown",
   "metadata": {
    "id": "9ErfOSsrkxQk"
   },
   "source": [
    "**Polymorphism**, define unique implementation of a method that is defined in the **parent class**.\n",
    "\n",
    "Here the bark() method defined in both Amstaff and Bolterier demonstrates polymorphism."
   ]
  },
  {
   "cell_type": "code",
   "execution_count": null,
   "metadata": {
    "colab": {
     "base_uri": "https://localhost:8080/"
    },
    "id": "zTMEDp1CkwgB",
    "outputId": "c9bfaef7-fd0c-4e23-ef8b-6004f39d2de7"
   },
   "outputs": [
    {
     "name": "stdout",
     "output_type": "stream",
     "text": [
      "woof!\n",
      "GRRRR!\n"
     ]
    }
   ],
   "source": [
    "# I know that both roy and rocky are dogs,\n",
    "# so i know they both have implemented the method bark\n",
    "# it will be a different implementation, but i dont care :)\n",
    "roy.bark()\n",
    "rocky.bark()"
   ]
  },
  {
   "cell_type": "code",
   "execution_count": null,
   "metadata": {
    "colab": {
     "base_uri": "https://localhost:8080/"
    },
    "id": "_thQs7L48ZZY",
    "outputId": "958e8df9-3604-4933-d0c3-58cfddb9da99"
   },
   "outputs": [
    {
     "name": "stdout",
     "output_type": "stream",
     "text": [
      "(<class '__main__.Amstaff'>, <class '__main__.Dog'>, <class 'object'>)\n"
     ]
    }
   ],
   "source": [
    "# Inspecting the inheritance hierarchy\n",
    "import inspect\n",
    "\n",
    "print(inspect.getmro(Amstaff))"
   ]
  },
  {
   "cell_type": "markdown",
   "metadata": {
    "id": "a9dXJ7P9Hsrc"
   },
   "source": [
    "#### Your turn: NS example: Implementing a Class Hierarchy for Neuron Types\n"
   ]
  },
  {
   "cell_type": "markdown",
   "metadata": {
    "id": "k8F8k1i6LDan"
   },
   "source": [
    "Design the following class hierarchy to represent different types of neurons and their roles in the nervous system. Design the structure to capture both common characteristics shared by all neurons and unique features specific to each neuron type."
   ]
  },
  {
   "cell_type": "markdown",
   "metadata": {
    "id": "pDyoVt9zR7ui"
   },
   "source": [
    "#### Requirements:"
   ]
  },
  {
   "cell_type": "markdown",
   "metadata": {
    "id": "M3XpJ3rDSe7b"
   },
   "source": [
    "Neuron Types and Their Functionality:\n",
    "1. **General Neuron**\n",
    "Represents a generic neuron with basic properties and functions common to all neuron types.\n",
    "- Attributes:\n",
    "firing_rate: A numerical value representing how frequently the neuron \"fires\" in response to a stimulus.\n",
    "- Functionality:\n",
    "Activate: Receives a stimulus and calculates a firing rate based on the strength of that stimulus.\n",
    "2. **Sensory Neuron**\n",
    "A neuron that detects and responds to external stimuli. Each sensory neuron is sensitive to a specific type of stimulus, such as light or pressure.\n",
    "- Attributes:\n",
    "receptor_type: Indicates the type of stimulus the neuron detects (e.g., \"light\" for photoreceptors or \"pressure\" for mechanoreceptors).\n",
    "- Functionality:\n",
    "Sense Stimulus: Processes the specific stimulus it is sensitive to and activates the neuron based on the strength or type of that stimulus.\n",
    "Stimulus-Specific Response: The neuron should produce a distinct response depending on the type of stimulus it detects.\n",
    "3. **Motor Neuron**\n",
    "A neuron responsible for initiating muscle movement by sending activation signals to a target muscle.\n",
    "- Attributes:\n",
    "target_muscle: Specifies the muscle controlled by the motor neuron (e.g., \"skeletal muscle\" or \"muscle spindle\").\n",
    "- Functionality:\n",
    "Control Muscle: Triggers a response in the target muscle based on the neuron’s activation level.\n",
    "- Activation Mechanism: Initiates a different response depending on the muscle type it controls.\n",
    "4. **Photoreceptor**\n",
    "A sensory neuron specifically sensitive to light.\n",
    "- Attributes:\n",
    "receptor_type: Fixed as \"light\" to represent its sensitivity.\n",
    "- Functionality:\n",
    "Light Detection: Receives light intensity as input and activates according to light levels.\n",
    "- Unique Response to Light: Exhibits a behavior specific to light detection, such as increasing firing rate with higher light intensity.\n",
    "5. **Mechanoreceptor**\n",
    "A sensory neuron that responds to pressure.\n",
    "- Attributes:\n",
    "receptor_type: Fixed as \"pressure\" to represent its sensitivity.\n",
    "- Functionality:\n",
    "Pressure Detection: Receives pressure as input and activates in response to the strength of the applied pressure.\n",
    "- Unique Response to Pressure: Produces a response based on the pressure level, potentially changing firing rate or triggering other effects.\n",
    "6. **Alpha Motor Neuron**\n",
    "A motor neuron that controls skeletal muscles.\n",
    "- Attributes:\n",
    "target_muscle: Set to \"skeletal muscle\" to specify its control function.\n",
    "- Functionality:\n",
    "Skeletal Muscle Control: Initiates muscle contraction or movement in response to its activation level.\n",
    "- Response Specific to Skeletal Muscle: Exhibits control mechanisms appropriate for skeletal muscles, such as strong, rapid contractions.\n",
    "7. **Gamma Motor Neuron**\n",
    "A motor neuron that controls muscle spindles, helping regulate muscle tone.\n",
    "- Attributes:\n",
    "target_muscle: Set to \"muscle spindle\" to specify its control function.\n",
    "- Functionality:\n",
    "Muscle Spindle Control: Adjusts muscle spindle tension in response to activation, affecting muscle tone.\n",
    "- Unique Control Mechanism: Exhibits a response specific to muscle spindles, often slower and more gradual than the rapid activation of skeletal muscles.\n"
   ]
  },
  {
   "cell_type": "markdown",
   "metadata": {
    "id": "N9Q7ery3TDIA"
   },
   "source": [
    "Each neuron type in your model should:\n",
    "\n",
    "- Respond to Activation: Have a way to “activate” based on its specific type of stimulus.\n",
    "- Process Stimuli: Sensory neurons should process their stimuli in a way that reflects their unique sensitivity (e.g., light intensity or pressure).\n",
    "- Control Muscles: Motor neurons should control their designated muscle type in a way that reflects the nature of the control required.\n"
   ]
  },
  {
   "cell_type": "markdown",
   "metadata": {
    "id": "l7o9PzCkRquj"
   },
   "source": [
    "#### Diagram"
   ]
  },
  {
   "cell_type": "markdown",
   "metadata": {
    "id": "VdgQMDwfQC1_"
   },
   "source": [
    "![image.png](data:image/png;base64,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)"
   ]
  },
  {
   "cell_type": "markdown",
   "metadata": {
    "id": "bhbNH02a82n5"
   },
   "source": [
    "### Multiple inheritances\n",
    "\n",
    "class DerivedClassName(Base1, Base2, Base3):"
   ]
  },
  {
   "cell_type": "markdown",
   "metadata": {
    "id": "BZE6rpLVPbyj"
   },
   "source": [
    "<h4>Python support multiple inheritances: when an attribute is not found in DerivedClassName, it is searched for in Base1, then (recursively) in the base classes of Base1, and if it was not found there, it was searched for in Base2, and so on"
   ]
  },
  {
   "cell_type": "code",
   "execution_count": null,
   "metadata": {
    "id": "HoDRNPjBPfXj"
   },
   "outputs": [],
   "source": [
    "class Base1(object):\n",
    "    def __init__(self):\n",
    "        self.str1 = \"str1\"\n",
    "        print(\"Base1\")\n",
    "\n",
    "class Base2(object):\n",
    "    def __init__(self):\n",
    "        self.str2 = \"str2\"\n",
    "        self.base2_att = True\n",
    "        print(\"Base2\")\n",
    "\n",
    "class Derived(Base1, Base2):\n",
    "    def __init__(self):\n",
    "        # Calling constructors of Base1\n",
    "        # and Base2 classes\n",
    "        Base1.__init__(self)\n",
    "        Base2.__init__(self)\n",
    "        print(\"Derived\")\n",
    "\n",
    "    def printStrs(self):\n",
    "        print(self.str1, self.str2)\n"
   ]
  },
  {
   "cell_type": "code",
   "execution_count": null,
   "metadata": {
    "colab": {
     "base_uri": "https://localhost:8080/"
    },
    "id": "1KlPGipuQMaV",
    "outputId": "6e557ed0-4cbf-4cb9-840a-28d79f893357"
   },
   "outputs": [
    {
     "name": "stdout",
     "output_type": "stream",
     "text": [
      "Base1\n",
      "Base2\n",
      "Derived\n",
      "str1 str2\n",
      "True\n"
     ]
    }
   ],
   "source": [
    "ob = Derived()\n",
    "ob.printStrs()\n",
    "print(ob.base2_att)"
   ]
  },
  {
   "cell_type": "markdown",
   "metadata": {
    "id": "qZ390qnP9d5R"
   },
   "source": [
    "### Abstract classes"
   ]
  },
  {
   "cell_type": "markdown",
   "metadata": {
    "id": "FYGDsqkC66Jh"
   },
   "source": [
    "when we want to impose a certain behavior"
   ]
  },
  {
   "cell_type": "markdown",
   "metadata": {
    "id": "Gk1BI4C-9idI"
   },
   "source": [
    "The specifications of those operations define an interface\n",
    "between the abstract data type and the rest of the program. The\n",
    "interface defines the behavior of the operations—what they do, but\n",
    "not how they do it."
   ]
  },
  {
   "cell_type": "code",
   "execution_count": null,
   "metadata": {
    "id": "iEbsGFCSSkN1"
   },
   "outputs": [],
   "source": [
    "from abc import ABC, abstractmethod\n",
    "\n",
    "# Define an abstract class\n",
    "class Animal(ABC):\n",
    "    @abstractmethod\n",
    "    def sound(self):\n",
    "        \"\"\"Abstract method, must be implemented by subclasses\"\"\"\n",
    "        pass\n",
    "\n",
    "    @abstractmethod\n",
    "    def move(self):\n",
    "        \"\"\"Abstract method, must be implemented by subclasses\"\"\"\n",
    "        pass\n",
    "\n",
    "# Define a subclass that inherits from the abstract class\n",
    "class Dog(Animal):\n",
    "    def sound(self):\n",
    "        return \"Bark\"\n",
    "\n",
    "    def move(self):\n",
    "        return \"Runs\"\n",
    "\n",
    "# Define another subclass\n",
    "class Bird(Animal):\n",
    "    def sound(self):\n",
    "        return \"Chirp\"\n",
    "\n",
    "    def move(self):\n",
    "        return \"Flies\"\n",
    "\n",
    "# Attempting to instantiate the abstract class directly will raise an error\n",
    "# animal = Animal()  # This would raise a TypeError\n",
    "\n",
    "# You can instantiate the concrete subclasses\n",
    "dog = Dog()\n",
    "bird = Bird()\n",
    "\n",
    "print(f\"Dog: {dog.sound()} and {dog.move()}\")\n",
    "print(f\"Bird: {bird.sound()} and {bird.move()}\")\n"
   ]
  },
  {
   "cell_type": "markdown",
   "metadata": {
    "id": "UipGHkNENVmA"
   },
   "source": [
    "#### Advanced: Class & instance methods and attributes\n"
   ]
  },
  {
   "cell_type": "markdown",
   "metadata": {
    "id": "sCj6RpmKzEM9"
   },
   "source": [
    "instance methods = functions that you define inside a class and c**an only call on an instance** of that class"
   ]
  },
  {
   "cell_type": "markdown",
   "metadata": {
    "id": "SdeBzFc8mWED"
   },
   "source": [
    "Instance variables are for data unique to each instance and class variables are for attributes and methods shared by all instances of the class:"
   ]
  },
  {
   "cell_type": "code",
   "execution_count": null,
   "metadata": {
    "id": "TIB-12WoNam0"
   },
   "outputs": [],
   "source": [
    "class Dog:\n",
    "    # Constructor\n",
    "    def __init__(self, name, age):\n",
    "        self.name = name # Instance attribute\n",
    "        self.age = age #Instance attribute\n",
    "    # Instance method\n",
    "    def bark(self):\n",
    "        print(\"bark bark!\")"
   ]
  },
  {
   "cell_type": "code",
   "execution_count": null,
   "metadata": {
    "colab": {
     "base_uri": "https://localhost:8080/"
    },
    "id": "gwwy8ZkvNeHU",
    "outputId": "24994da5-1a17-4d65-911f-1d578ecc1023"
   },
   "outputs": [
    {
     "name": "stdout",
     "output_type": "stream",
     "text": [
      "bark bark!\n"
     ]
    }
   ],
   "source": [
    "ozzy.bark()"
   ]
  },
  {
   "cell_type": "code",
   "execution_count": null,
   "metadata": {
    "id": "MuqL51Mm9tYg"
   },
   "outputs": [],
   "source": [
    "Dog.bark()"
   ]
  },
  {
   "cell_type": "markdown",
   "metadata": {
    "id": "IXJiW5Haz871"
   },
   "source": [
    "- instance attributes (The attributes created in .__init__). are specific to a particular instance.  \n",
    "\n",
    "- class attributes have the *same value* for all class instances."
   ]
  },
  {
   "cell_type": "code",
   "execution_count": null,
   "metadata": {
    "id": "csh5CfF-NnK2"
   },
   "outputs": [],
   "source": [
    "class Dog:\n",
    "    species = \"Canis familiaris\"\n",
    "    def __init__(self, name, age):\n",
    "        self.name = name\n",
    "        self.age = age\n",
    "\n",
    "    def bark(self):\n",
    "        print(\"bark bark!\")\n",
    "\n",
    "    def doginfo(self):\n",
    "        print(self.name + \" is \" + str(self.age) + \" year(s) old.\")\n"
   ]
  },
  {
   "cell_type": "code",
   "execution_count": null,
   "metadata": {
    "colab": {
     "base_uri": "https://localhost:8080/"
    },
    "id": "WMGkJ7QMPYWF",
    "outputId": "73b4e79c-d4a4-456f-f219-99709561e217"
   },
   "outputs": [
    {
     "name": "stdout",
     "output_type": "stream",
     "text": [
      "Ozzy is 2 year(s) old.\n",
      "Skippy is 12 year(s) old.\n",
      "Filou is 8 year(s) old.\n"
     ]
    }
   ],
   "source": [
    "ozzy = Dog(\"Ozzy\", 2)\n",
    "skippy = Dog(\"Skippy\", 12)\n",
    "filou = Dog(\"Filou\", 8)\n",
    "\n",
    "ozzy.doginfo()\n",
    "skippy.doginfo()\n",
    "filou.doginfo()"
   ]
  },
  {
   "cell_type": "code",
   "execution_count": null,
   "metadata": {
    "colab": {
     "base_uri": "https://localhost:8080/"
    },
    "id": "AEW1MV0kzXAy",
    "outputId": "cfd1945a-7711-422a-ad8e-5303de9b12ca"
   },
   "outputs": [
    {
     "name": "stdout",
     "output_type": "stream",
     "text": [
      "Canis familiaris\n",
      "Canis familiaris\n"
     ]
    }
   ],
   "source": [
    "print(ozzy.species)\n",
    "print(skippy.species)"
   ]
  },
  {
   "cell_type": "code",
   "execution_count": null,
   "metadata": {
    "colab": {
     "base_uri": "https://localhost:8080/",
     "height": 35
    },
    "id": "jM8FHcFq9mGS",
    "outputId": "07647c93-e733-4a38-d560-18a4ed2ed8f5"
   },
   "outputs": [
    {
     "data": {
      "application/vnd.google.colaboratory.intrinsic+json": {
       "type": "string"
      },
      "text/plain": [
       "'Canis familiaris'"
      ]
     },
     "execution_count": 14,
     "metadata": {},
     "output_type": "execute_result"
    }
   ],
   "source": [
    "Dog.species"
   ]
  },
  {
   "cell_type": "markdown",
   "metadata": {
    "id": "CwPEjA5I-VJv"
   },
   "source": [
    "Generally speaking, instance variables are for data unique to each instance and class variables are for attributes and methods shared by all instances of the class"
   ]
  },
  {
   "cell_type": "code",
   "execution_count": null,
   "metadata": {
    "colab": {
     "base_uri": "https://localhost:8080/"
    },
    "id": "gyRLIiG2_Yyv",
    "outputId": "70ccbb72-d5a8-4129-a291-5e61379c71c3"
   },
   "outputs": [
    {
     "name": "stdout",
     "output_type": "stream",
     "text": [
      "<class 'method'>\n"
     ]
    }
   ],
   "source": [
    "print(type(ozzy.bark))"
   ]
  },
  {
   "cell_type": "markdown",
   "metadata": {
    "id": "ZpJj-sOqS5Ff"
   },
   "source": [
    "### In  python examples: *int*() and str()"
   ]
  },
  {
   "cell_type": "code",
   "execution_count": null,
   "metadata": {
    "colab": {
     "base_uri": "https://localhost:8080/"
    },
    "id": "U4_nbUinwYyN",
    "outputId": "71a77bd8-6e31-4bab-eeb6-8ee70e8f6730"
   },
   "outputs": [
    {
     "data": {
      "text/plain": [
       "15"
      ]
     },
     "execution_count": 12,
     "metadata": {},
     "output_type": "execute_result"
    }
   ],
   "source": [
    "n1 = 5\n",
    "n2 = int('5')\n",
    "n3 = int(5.4)\n",
    "n1+n2+n3"
   ]
  },
  {
   "cell_type": "markdown",
   "metadata": {
    "id": "XfWFDijp84R7"
   },
   "source": [
    "instansiation:\n",
    "a new str object was created, with str attribute = \"Hello Python\""
   ]
  },
  {
   "cell_type": "code",
   "execution_count": null,
   "metadata": {
    "id": "Q-YzbV0PTCmH"
   },
   "outputs": [],
   "source": [
    "# instansiation:\n",
    "s = \"Hello Python\""
   ]
  },
  {
   "cell_type": "markdown",
   "metadata": {
    "id": "9vbayTPZp_Uo"
   },
   "source": [
    "#### Conceptual Definition of int in Python"
   ]
  },
  {
   "cell_type": "code",
   "execution_count": null,
   "metadata": {
    "id": "gT9zE4QBqFeP"
   },
   "outputs": [],
   "source": [
    "class int(object):\n",
    "    def __new__(cls, value=0):\n",
    "        # Create a new integer object\n",
    "        pass\n",
    "\n",
    "    def __init__(self, value=0):\n",
    "        # Initialize the integer value (though in reality, int is immutable, and this doesn't modify the value)\n",
    "        pass\n",
    "\n",
    "    def __add__(self, other):\n",
    "        # Method to handle addition (+)\n",
    "        pass\n",
    "\n",
    "    def __sub__(self, other):\n",
    "        # Method to handle subtraction (-)\n",
    "        pass\n",
    "\n",
    "    def __mul__(self, other):\n",
    "        # Method to handle multiplication (*)\n",
    "        pass\n",
    "\n",
    "    def __str__(self):\n",
    "        # Method to return the string representation of the integer\n",
    "        pass\n",
    "\n",
    "    # There are many other methods and magic methods defined in the actual int class\n"
   ]
  },
  {
   "cell_type": "markdown",
   "metadata": {
    "id": "mdUtRaNwqiLr"
   },
   "source": [
    "int objects are immutable, once an integer object is created, its value cannot be changed. Any operation that appears to modify an integer actually creates a new integer object.\n",
    "\n",
    "\n",
    "An integer can be created by simply assigning a literal number to a variable, like x = 5, or by calling the int() constructor, like y = int(\"5\").\n",
    "\n",
    "\n",
    "The int class defines several magic methods (e.g., __add__, __sub__, __mul__, etc.) that allow for arithmetic operations using the standard operators (+, -, *, etc.).\n",
    "Type Conversion:\n",
    "\n",
    "The int class can convert other types to integers when possible, such as converting a string of digits to an integer using int(\"123\").\n",
    "String Representation:\n",
    "\n",
    "The int class includes methods like __str__() and __repr__() to provide string representations of integers.\n",
    "\n",
    "The actual implementation of the int class in Python is more complex and is written in C (for CPython)."
   ]
  },
  {
   "cell_type": "markdown",
   "metadata": {
    "id": "KRwNpU6ywWzP"
   },
   "source": [
    "Constractors:\n",
    "can be used to create an integer from almost any type"
   ]
  },
  {
   "cell_type": "markdown",
   "metadata": {
    "id": "4DRFNg-RAWGn"
   },
   "source": [
    "### Miscellaneous"
   ]
  },
  {
   "cell_type": "markdown",
   "metadata": {
    "id": "De-KWxtG_Xnh"
   },
   "source": [
    "#### Operator Overloading (magic / special / dunder methods)"
   ]
  },
  {
   "cell_type": "code",
   "execution_count": null,
   "metadata": {
    "id": "lZghDhzq_5I9"
   },
   "outputs": [],
   "source": [
    "# Simple example:\n",
    "\n",
    "class Point:\n",
    "    def __init__(self, x, y):\n",
    "        self.x = x\n",
    "        self.y = y\n",
    "\n",
    "    def __str__(self):\n",
    "        return f\"Point({self.x}, {self.y})\"\n",
    "\n",
    "    def __add__(self, other):\n",
    "        return Point(self.x + other.x, self.y + other.y)\n"
   ]
  },
  {
   "cell_type": "code",
   "execution_count": null,
   "metadata": {
    "colab": {
     "base_uri": "https://localhost:8080/"
    },
    "id": "ZEnRUNQOAEz4",
    "outputId": "cea2a651-f4f2-4b77-eff8-19d2ff660b5b"
   },
   "outputs": [
    {
     "name": "stdout",
     "output_type": "stream",
     "text": [
      "Point(1, 2)\n",
      "Point(4, 6)\n"
     ]
    }
   ],
   "source": [
    "# Creating two Point objects\n",
    "p1 = Point(1, 2)\n",
    "p2 = Point(3, 4)\n",
    "\n",
    "# Using the __str__ method\n",
    "print(p1)\n",
    "\n",
    "# Using the __add__ method\n",
    "p3 = p1 + p2\n",
    "print(p3)"
   ]
  },
  {
   "cell_type": "markdown",
   "metadata": {
    "id": "pI9qVKRF_eyZ"
   },
   "source": [
    "The Process:\n",
    "\n",
    "Operator Encountered: When Python encounters the + operator between two objects, like a + b, it looks at the types of a and b to determine what operation to perform.\n",
    "\n",
    "Method Lookup: Python checks if the left operand (a in a + b) has an __add__ method defined. This method is expected to handle the addition operation for that object.\n",
    "\n",
    "Method Invocation: If a has an __add__ method, Python calls it with a as the self parameter and b as the other parameter. The method is responsible for returning the result of the addition.\n",
    "Fallback: If the __add__ method is not defined for a, Python then tries to call the __radd__ method on b (the right operand) with the parameters reversed (b.__radd__(a)). This provides a fallback if the left operand doesn’t know how to add the two objects, but the right operand might.\n",
    "\n",
    "Default Behavior: If neither __add__ nor __radd__ are implemented, Python raises a TypeError indicating that the operation is unsupported for the operands involved."
   ]
  },
  {
   "cell_type": "markdown",
   "metadata": {
    "id": "oBnFu7YG6OIz"
   },
   "source": [
    "#### Private vs Public"
   ]
  },
  {
   "cell_type": "markdown",
   "metadata": {
    "id": "QN77p37h6bIU"
   },
   "source": [
    "Unlike some other languages like Java or C++, Python does **not** have strict access modifiers, but it uses naming conventions to indicate the intended visibility of class members.\n",
    "\n",
    "\n",
    "Single Leading Underscore (_): weak \"internal use\" indicator.\n",
    "doesn’t enforce any restrictions. It’s just a hint to developers.\n",
    "\n",
    "Double Leading Underscore (__): \"internal use only\", a little harder (but not impossible) to access from outside the class."
   ]
  },
  {
   "cell_type": "code",
   "execution_count": null,
   "metadata": {
    "id": "8kI5U2Sg7SFe"
   },
   "outputs": [],
   "source": [
    "class MyClass:\n",
    "    def __init__(self):\n",
    "        self._internal_attribute = \"I'm intended to be internal\"\n",
    "        self.__private_attribute = \"I'm intended to be private\"\n",
    "\n",
    "    def _internal_method(self):\n",
    "        return \"This is an internal method\"\n",
    "\n",
    "    def __private_method(self):\n",
    "        return \"This is a private method\"\n",
    "\n",
    "obj = MyClass()"
   ]
  },
  {
   "cell_type": "code",
   "execution_count": null,
   "metadata": {
    "colab": {
     "base_uri": "https://localhost:8080/"
    },
    "id": "j2hLG-PB7ZeJ",
    "outputId": "a6f3ea4e-72ef-4db2-8ded-89564fcf932e"
   },
   "outputs": [
    {
     "name": "stdout",
     "output_type": "stream",
     "text": [
      "I'm intended to be internal\n",
      "This is an internal method\n"
     ]
    }
   ],
   "source": [
    "# Accessing internal attributes and methods\n",
    "print(obj._internal_attribute)   # Accessible but intended for internal use\n",
    "print(obj._internal_method())    # Accessible but intended for internal use"
   ]
  },
  {
   "cell_type": "code",
   "execution_count": null,
   "metadata": {
    "colab": {
     "base_uri": "https://localhost:8080/",
     "height": 193
    },
    "id": "GVCFPkW07uME",
    "outputId": "c00d34a7-13ae-46a0-a796-1f197a38ad11"
   },
   "outputs": [
    {
     "ename": "AttributeError",
     "evalue": "'MyClass' object has no attribute '__private_attribute'",
     "output_type": "error",
     "traceback": [
      "\u001b[0;31m---------------------------------------------------------------------------\u001b[0m",
      "\u001b[0;31mAttributeError\u001b[0m                            Traceback (most recent call last)",
      "\u001b[0;32m<ipython-input-35-bc026347d527>\u001b[0m in \u001b[0;36m<cell line: 3>\u001b[0;34m()\u001b[0m\n\u001b[1;32m      1\u001b[0m \u001b[0;31m# Accessing private attributes and methods (name mangled)\u001b[0m\u001b[0;34m\u001b[0m\u001b[0;34m\u001b[0m\u001b[0m\n\u001b[1;32m      2\u001b[0m \u001b[0;31m# The following would raise an AttributeError:\u001b[0m\u001b[0;34m\u001b[0m\u001b[0;34m\u001b[0m\u001b[0m\n\u001b[0;32m----> 3\u001b[0;31m \u001b[0mprint\u001b[0m\u001b[0;34m(\u001b[0m\u001b[0mobj\u001b[0m\u001b[0;34m.\u001b[0m\u001b[0m__private_attribute\u001b[0m\u001b[0;34m)\u001b[0m  \u001b[0;31m# Raises AttributeError\u001b[0m\u001b[0;34m\u001b[0m\u001b[0;34m\u001b[0m\u001b[0m\n\u001b[0m\u001b[1;32m      4\u001b[0m \u001b[0mprint\u001b[0m\u001b[0;34m(\u001b[0m\u001b[0mobj\u001b[0m\u001b[0;34m.\u001b[0m\u001b[0m__private_method\u001b[0m\u001b[0;34m(\u001b[0m\u001b[0;34m)\u001b[0m\u001b[0;34m)\u001b[0m   \u001b[0;31m# Raises AttributeError\u001b[0m\u001b[0;34m\u001b[0m\u001b[0;34m\u001b[0m\u001b[0m\n",
      "\u001b[0;31mAttributeError\u001b[0m: 'MyClass' object has no attribute '__private_attribute'"
     ]
    }
   ],
   "source": [
    "# Accessing private attributes and methods (name mangled)\n",
    "# The following would raise an AttributeError:\n",
    "print(obj.__private_attribute)  # Raises AttributeError\n",
    "print(obj.__private_method())   # Raises AttributeError"
   ]
  },
  {
   "cell_type": "code",
   "execution_count": null,
   "metadata": {
    "colab": {
     "base_uri": "https://localhost:8080/"
    },
    "id": "QZ2ynu-78aCb",
    "outputId": "66b48b18-9e19-4f8f-a1dd-a15376bf0d26"
   },
   "outputs": [
    {
     "name": "stdout",
     "output_type": "stream",
     "text": [
      "I'm intended to be private\n",
      "This is a private method\n"
     ]
    }
   ],
   "source": [
    "# # However, they can still be accessed\n",
    "print(obj._MyClass__private_attribute)  # Accessing through name mangling\n",
    "print(obj._MyClass__private_method())   # Accessing through name mangling"
   ]
  },
  {
   "cell_type": "markdown",
   "metadata": {
    "id": "iFcSHdFC8TYN"
   },
   "source": [
    "How does it work?\n",
    "\n",
    "When you define an attribute or method with a double leading underscore (e.g., __private_attribute), Python automatically changes the name of the attribute to include the class name in a specific format. This is done to avoid name clashes in subclasses and to make it less likely that a private attribute will be accidentally overridden or accessed.\n",
    "\n",
    "For example, if you have a class MyClass with an attribute __private_attribute, Python will mangle the name to _MyClass__private_attribute."
   ]
  },
  {
   "cell_type": "code",
   "execution_count": null,
   "metadata": {
    "id": "s0WQBP3S_DLL"
   },
   "outputs": [],
   "source": []
  },
  {
   "cell_type": "markdown",
   "metadata": {
    "id": "Z9vF3GFa-oVE"
   },
   "source": [
    "### Inspecting Class members"
   ]
  },
  {
   "cell_type": "markdown",
   "metadata": {
    "id": "Q4ttTCG--sxv"
   },
   "source": [
    "The dir() function returns a list of all the members in the specified object"
   ]
  },
  {
   "cell_type": "code",
   "execution_count": null,
   "metadata": {
    "colab": {
     "base_uri": "https://localhost:8080/"
    },
    "id": "funPpJjh-qrr",
    "outputId": "abca3831-6150-4c74-d95d-37f839be29af"
   },
   "outputs": [
    {
     "data": {
      "text/plain": [
       "['__abs__',\n",
       " '__add__',\n",
       " '__and__',\n",
       " '__bool__',\n",
       " '__ceil__',\n",
       " '__class__',\n",
       " '__delattr__',\n",
       " '__dir__',\n",
       " '__divmod__',\n",
       " '__doc__',\n",
       " '__eq__',\n",
       " '__float__',\n",
       " '__floor__',\n",
       " '__floordiv__',\n",
       " '__format__',\n",
       " '__ge__',\n",
       " '__getattribute__',\n",
       " '__getnewargs__',\n",
       " '__gt__',\n",
       " '__hash__',\n",
       " '__index__',\n",
       " '__init__',\n",
       " '__init_subclass__',\n",
       " '__int__',\n",
       " '__invert__',\n",
       " '__le__',\n",
       " '__lshift__',\n",
       " '__lt__',\n",
       " '__mod__',\n",
       " '__mul__',\n",
       " '__ne__',\n",
       " '__neg__',\n",
       " '__new__',\n",
       " '__or__',\n",
       " '__pos__',\n",
       " '__pow__',\n",
       " '__radd__',\n",
       " '__rand__',\n",
       " '__rdivmod__',\n",
       " '__reduce__',\n",
       " '__reduce_ex__',\n",
       " '__repr__',\n",
       " '__rfloordiv__',\n",
       " '__rlshift__',\n",
       " '__rmod__',\n",
       " '__rmul__',\n",
       " '__ror__',\n",
       " '__round__',\n",
       " '__rpow__',\n",
       " '__rrshift__',\n",
       " '__rshift__',\n",
       " '__rsub__',\n",
       " '__rtruediv__',\n",
       " '__rxor__',\n",
       " '__setattr__',\n",
       " '__sizeof__',\n",
       " '__str__',\n",
       " '__sub__',\n",
       " '__subclasshook__',\n",
       " '__truediv__',\n",
       " '__trunc__',\n",
       " '__xor__',\n",
       " 'as_integer_ratio',\n",
       " 'bit_count',\n",
       " 'bit_length',\n",
       " 'conjugate',\n",
       " 'denominator',\n",
       " 'from_bytes',\n",
       " 'imag',\n",
       " 'numerator',\n",
       " 'real',\n",
       " 'to_bytes']"
      ]
     },
     "execution_count": 1,
     "metadata": {},
     "output_type": "execute_result"
    }
   ],
   "source": [
    "num = int(5)\n",
    "dir(num)"
   ]
  },
  {
   "cell_type": "code",
   "execution_count": null,
   "metadata": {
    "colab": {
     "base_uri": "https://localhost:8080/"
    },
    "id": "qPnHgyWe-x7M",
    "outputId": "b280186e-e65a-4187-ee29-b1cacfcb0e29"
   },
   "outputs": [
    {
     "data": {
      "text/plain": [
       "['__add__',\n",
       " '__class__',\n",
       " '__contains__',\n",
       " '__delattr__',\n",
       " '__dir__',\n",
       " '__doc__',\n",
       " '__eq__',\n",
       " '__format__',\n",
       " '__ge__',\n",
       " '__getattribute__',\n",
       " '__getitem__',\n",
       " '__getnewargs__',\n",
       " '__gt__',\n",
       " '__hash__',\n",
       " '__init__',\n",
       " '__init_subclass__',\n",
       " '__iter__',\n",
       " '__le__',\n",
       " '__len__',\n",
       " '__lt__',\n",
       " '__mod__',\n",
       " '__mul__',\n",
       " '__ne__',\n",
       " '__new__',\n",
       " '__reduce__',\n",
       " '__reduce_ex__',\n",
       " '__repr__',\n",
       " '__rmod__',\n",
       " '__rmul__',\n",
       " '__setattr__',\n",
       " '__sizeof__',\n",
       " '__str__',\n",
       " '__subclasshook__',\n",
       " 'capitalize',\n",
       " 'casefold',\n",
       " 'center',\n",
       " 'count',\n",
       " 'encode',\n",
       " 'endswith',\n",
       " 'expandtabs',\n",
       " 'find',\n",
       " 'format',\n",
       " 'format_map',\n",
       " 'index',\n",
       " 'isalnum',\n",
       " 'isalpha',\n",
       " 'isascii',\n",
       " 'isdecimal',\n",
       " 'isdigit',\n",
       " 'isidentifier',\n",
       " 'islower',\n",
       " 'isnumeric',\n",
       " 'isprintable',\n",
       " 'isspace',\n",
       " 'istitle',\n",
       " 'isupper',\n",
       " 'join',\n",
       " 'ljust',\n",
       " 'lower',\n",
       " 'lstrip',\n",
       " 'maketrans',\n",
       " 'partition',\n",
       " 'removeprefix',\n",
       " 'removesuffix',\n",
       " 'replace',\n",
       " 'rfind',\n",
       " 'rindex',\n",
       " 'rjust',\n",
       " 'rpartition',\n",
       " 'rsplit',\n",
       " 'rstrip',\n",
       " 'split',\n",
       " 'splitlines',\n",
       " 'startswith',\n",
       " 'strip',\n",
       " 'swapcase',\n",
       " 'title',\n",
       " 'translate',\n",
       " 'upper',\n",
       " 'zfill']"
      ]
     },
     "execution_count": 2,
     "metadata": {},
     "output_type": "execute_result"
    }
   ],
   "source": [
    "s = str('string')\n",
    "dir(s)"
   ]
  },
  {
   "cell_type": "code",
   "execution_count": null,
   "metadata": {
    "colab": {
     "base_uri": "https://localhost:8080/"
    },
    "id": "DF-nnrq3-4x6",
    "outputId": "4808cc17-d1ea-4807-9a2d-a6ab697768c3"
   },
   "outputs": [
    {
     "data": {
      "text/plain": [
       "['__abs__',\n",
       " '__add__',\n",
       " '__and__',\n",
       " '__bool__',\n",
       " '__ceil__',\n",
       " '__class__',\n",
       " '__delattr__',\n",
       " '__dir__',\n",
       " '__divmod__',\n",
       " '__doc__',\n",
       " '__eq__',\n",
       " '__float__',\n",
       " '__floor__',\n",
       " '__floordiv__',\n",
       " '__format__',\n",
       " '__ge__',\n",
       " '__getattribute__',\n",
       " '__getnewargs__',\n",
       " '__gt__',\n",
       " '__hash__',\n",
       " '__index__',\n",
       " '__init__',\n",
       " '__init_subclass__',\n",
       " '__int__',\n",
       " '__invert__',\n",
       " '__le__',\n",
       " '__lshift__',\n",
       " '__lt__',\n",
       " '__mod__',\n",
       " '__mul__',\n",
       " '__ne__',\n",
       " '__neg__',\n",
       " '__new__',\n",
       " '__or__',\n",
       " '__pos__',\n",
       " '__pow__',\n",
       " '__radd__',\n",
       " '__rand__',\n",
       " '__rdivmod__',\n",
       " '__reduce__',\n",
       " '__reduce_ex__',\n",
       " '__repr__',\n",
       " '__rfloordiv__',\n",
       " '__rlshift__',\n",
       " '__rmod__',\n",
       " '__rmul__',\n",
       " '__ror__',\n",
       " '__round__',\n",
       " '__rpow__',\n",
       " '__rrshift__',\n",
       " '__rshift__',\n",
       " '__rsub__',\n",
       " '__rtruediv__',\n",
       " '__rxor__',\n",
       " '__setattr__',\n",
       " '__sizeof__',\n",
       " '__str__',\n",
       " '__sub__',\n",
       " '__subclasshook__',\n",
       " '__truediv__',\n",
       " '__trunc__',\n",
       " '__xor__',\n",
       " 'as_integer_ratio',\n",
       " 'bit_count',\n",
       " 'bit_length',\n",
       " 'conjugate',\n",
       " 'denominator',\n",
       " 'from_bytes',\n",
       " 'imag',\n",
       " 'numerator',\n",
       " 'real',\n",
       " 'to_bytes']"
      ]
     },
     "execution_count": 3,
     "metadata": {},
     "output_type": "execute_result"
    }
   ],
   "source": [
    "dir(int)"
   ]
  },
  {
   "cell_type": "code",
   "execution_count": null,
   "metadata": {
    "colab": {
     "base_uri": "https://localhost:8080/",
     "height": 141
    },
    "id": "-qg6aoBd_3mX",
    "outputId": "7985994c-0378-465b-c5bd-24e35ebf0777"
   },
   "outputs": [
    {
     "ename": "AttributeError",
     "evalue": "'int' object has no attribute '__classInfo__'",
     "output_type": "error",
     "traceback": [
      "\u001b[0;31m---------------------------------------------------------------------------\u001b[0m",
      "\u001b[0;31mAttributeError\u001b[0m                            Traceback (most recent call last)",
      "\u001b[0;32m<ipython-input-5-f992487b8038>\u001b[0m in \u001b[0;36m<cell line: 1>\u001b[0;34m()\u001b[0m\n\u001b[0;32m----> 1\u001b[0;31m \u001b[0mnum\u001b[0m\u001b[0;34m.\u001b[0m\u001b[0m__classInfo__\u001b[0m\u001b[0;34m(\u001b[0m\u001b[0;34m)\u001b[0m\u001b[0;34m\u001b[0m\u001b[0;34m\u001b[0m\u001b[0m\n\u001b[0m",
      "\u001b[0;31mAttributeError\u001b[0m: 'int' object has no attribute '__classInfo__'"
     ]
    }
   ],
   "source": []
  },
  {
   "cell_type": "code",
   "execution_count": null,
   "metadata": {
    "id": "nasXySPWAFhP"
   },
   "outputs": [],
   "source": []
  }
 ],
 "metadata": {
  "colab": {
   "collapsed_sections": [
    "ZtjGKMBE5HqM",
    "YLcGd40-SXXJ",
    "pDyoVt9zR7ui",
    "l7o9PzCkRquj",
    "UipGHkNENVmA",
    "ZpJj-sOqS5Ff",
    "9vbayTPZp_Uo",
    "oBnFu7YG6OIz",
    "Z9vF3GFa-oVE"
   ],
   "provenance": []
  },
  "kernelspec": {
   "display_name": "Python 3",
   "name": "python3"
  },
  "language_info": {
   "name": "python"
  }
 },
 "nbformat": 4,
 "nbformat_minor": 0
}
